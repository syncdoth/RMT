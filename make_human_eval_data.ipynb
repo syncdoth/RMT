{
 "cells": [
  {
   "cell_type": "code",
   "execution_count": 18,
   "metadata": {},
   "outputs": [],
   "source": [
    "from data import MscDataset\n",
    "import pandas as pd\n",
    "from transformers import AutoTokenizer"
   ]
  },
  {
   "cell_type": "code",
   "execution_count": 19,
   "metadata": {},
   "outputs": [],
   "source": [
    "tokenizer = AutoTokenizer.from_pretrained('facebook/blenderbot-400M-distill')"
   ]
  },
  {
   "cell_type": "code",
   "execution_count": 20,
   "metadata": {},
   "outputs": [],
   "source": [
    "def make_df(data, indices):\n",
    "    human_eval_data = {'hist': [], 'query': [], 'response': []}\n",
    "    for i in indices:\n",
    "        idx = data.data_idx[i]\n",
    "        hist = data.histories[idx]\n",
    "        query = data.queries[idx]\n",
    "        response = data.responses[idx]\n",
    "        human_eval_data['hist'].append(hist)\n",
    "        human_eval_data['query'].append(query)\n",
    "        human_eval_data['response'].append(response)\n",
    "    human_eval_data = pd.DataFrame(human_eval_data)\n",
    "    return human_eval_data"
   ]
  },
  {
   "cell_type": "code",
   "execution_count": 21,
   "metadata": {},
   "outputs": [
    {
     "data": {
      "application/vnd.jupyter.widget-view+json": {
       "model_id": "de810ff5ba9e446cb6c89cfe4023684e",
       "version_major": 2,
       "version_minor": 0
      },
      "text/plain": [
       "load data:   0%|          | 0/501 [00:00<?, ?it/s]"
      ]
     },
     "metadata": {},
     "output_type": "display_data"
    },
    {
     "data": {
      "application/vnd.jupyter.widget-view+json": {
       "model_id": "18ffdb29552247308df95d31549a3b64",
       "version_major": 2,
       "version_minor": 0
      },
      "text/plain": [
       "format data:   0%|          | 0/501 [00:00<?, ?it/s]"
      ]
     },
     "metadata": {},
     "output_type": "display_data"
    }
   ],
   "source": [
    "test_dataset = MscDataset(\n",
    "    tokenizer,\n",
    "    'msc/session_5/test.txt',\n",
    "    max_length=-1,\n",
    "    max_session=5,\n",
    "    target_session=5,\n",
    ")\n",
    "with open('human_eval_session5_idx.txt', 'r') as f:\n",
    "    indices = [int(x.strip()) for x in f.readlines()]\n",
    "    \n",
    "\n",
    "session5_human_eval_data = make_df(test_dataset, indices)\n",
    "\n",
    "session5_pred_base = pd.read_json('generated/final/sess5-blenderbot400M-msc.jsonl', lines=True)\n",
    "session5_pred_seg1 = pd.read_json('generated/final/sess5-blenderbot-400M-RMT-seg1-mem_rleft_wleft_5_residual-textnormv3-proj-scaledv2.jsonl', lines=True)\n",
    "session5_pred_seg8 = pd.read_json('generated/final/sess5-blenderbot-400M-RMT-seg8-mem_rleft_wleft_5_residual-continual-prev_sess.jsonl', lines=True)"
   ]
  },
  {
   "cell_type": "code",
   "execution_count": 22,
   "metadata": {},
   "outputs": [
    {
     "data": {
      "application/vnd.jupyter.widget-view+json": {
       "model_id": "739ce9b6b0cf4186a7bbdb0c6c373310",
       "version_major": 2,
       "version_minor": 0
      },
      "text/plain": [
       "load data:   0%|          | 0/501 [00:00<?, ?it/s]"
      ]
     },
     "metadata": {},
     "output_type": "display_data"
    },
    {
     "data": {
      "application/vnd.jupyter.widget-view+json": {
       "model_id": "f2651af71a7b47e69dad672da8f778dc",
       "version_major": 2,
       "version_minor": 0
      },
      "text/plain": [
       "format data:   0%|          | 0/501 [00:00<?, ?it/s]"
      ]
     },
     "metadata": {},
     "output_type": "display_data"
    }
   ],
   "source": [
    "test_dataset_200 = MscDataset(\n",
    "    tokenizer,\n",
    "    'msc/session_5/test.txt',\n",
    "    max_length=-1,\n",
    "    max_session=5,\n",
    "    target_session=200,\n",
    "    task='prev_sess',\n",
    ")\n",
    "with open('human_eval_session200_idx.txt', 'r') as f:\n",
    "    indices = [int(x.strip()) for x in f.readlines()]\n",
    "    \n",
    "\n",
    "session200_human_eval_data = make_df(test_dataset_200, indices)\n",
    "\n",
    "session200_pred_base = pd.read_json('generated/final/blenderbot400M-msc.jsonl', lines=True)\n",
    "session200_pred_seg1 = pd.read_json('generated/final/blenderbot-400M-RMT-seg1-mem_rleft_wleft_5_residual-textnormv3-proj-scaledv2.jsonl', lines=True)\n",
    "session200_pred_seg8 = pd.read_json('generated/final/blenderbot-400M-RMT-seg8-mem_rleft_wleft_5_residual-continual-prev_sess.jsonl', lines=True)"
   ]
  },
  {
   "cell_type": "code",
   "execution_count": 24,
   "metadata": {},
   "outputs": [],
   "source": [
    "session5_human_eval_data['baseline'] = session5_pred_base['pred']\n",
    "session5_human_eval_data['seg1'] = session5_pred_seg1['pred']\n",
    "session5_human_eval_data['seg8'] = session5_pred_seg8['pred']"
   ]
  },
  {
   "cell_type": "code",
   "execution_count": 25,
   "metadata": {},
   "outputs": [],
   "source": [
    "session200_human_eval_data['baseline'] = session200_pred_base['pred']\n",
    "session200_human_eval_data['seg1'] = session200_pred_seg1['pred']\n",
    "session200_human_eval_data['seg8'] = session200_pred_seg8['pred']"
   ]
  },
  {
   "cell_type": "code",
   "execution_count": 31,
   "metadata": {},
   "outputs": [],
   "source": [
    "session5_human_eval_data['hist'] = session5_human_eval_data['hist'].apply(lambda x: '\\n'.join(x))\n",
    "session200_human_eval_data['hist'] = session200_human_eval_data['hist'].apply(lambda x: '\\n'.join(x))"
   ]
  },
  {
   "cell_type": "code",
   "execution_count": 32,
   "metadata": {},
   "outputs": [],
   "source": [
    "session5_human_eval_data.to_csv('session5_human_eval_data.csv', index=False)\n",
    "session200_human_eval_data.to_csv('session200_human_eval_data.csv', index=False)"
   ]
  },
  {
   "cell_type": "code",
   "execution_count": null,
   "metadata": {},
   "outputs": [],
   "source": []
  }
 ],
 "metadata": {
  "kernelspec": {
   "display_name": "py310",
   "language": "python",
   "name": "python3"
  },
  "language_info": {
   "codemirror_mode": {
    "name": "ipython",
    "version": 3
   },
   "file_extension": ".py",
   "mimetype": "text/x-python",
   "name": "python",
   "nbconvert_exporter": "python",
   "pygments_lexer": "ipython3",
   "version": "3.10.9"
  },
  "orig_nbformat": 4
 },
 "nbformat": 4,
 "nbformat_minor": 2
}
