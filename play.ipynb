{
 "cells": [
  {
   "cell_type": "code",
   "execution_count": 1,
   "metadata": {},
   "outputs": [],
   "source": [
    "from transformers import DataCollatorForSeq2Seq\n",
    "import torch\n",
    "\n",
    "from data import MscDataset\n",
    "from model import load_transformer_LM_tokenizer, prepare_rmt_model\n",
    "\n",
    "%load_ext autoreload\n",
    "%autoreload 2"
   ]
  },
  {
   "cell_type": "code",
   "execution_count": 12,
   "metadata": {},
   "outputs": [
    {
     "data": {
      "application/vnd.jupyter.widget-view+json": {
       "model_id": "2259e71fc6914a98bb0e7fd141e6695d",
       "version_major": 2,
       "version_minor": 0
      },
      "text/plain": [
       "load data:   0%|          | 0/1001 [00:00<?, ?it/s]"
      ]
     },
     "metadata": {},
     "output_type": "display_data"
    },
    {
     "data": {
      "application/vnd.jupyter.widget-view+json": {
       "model_id": "020f32c267764ad586342c5518e712b5",
       "version_major": 2,
       "version_minor": 0
      },
      "text/plain": [
       "format data:   0%|          | 0/1001 [00:00<?, ?it/s]"
      ]
     },
     "metadata": {},
     "output_type": "display_data"
    }
   ],
   "source": [
    "from main import ExperimentArgs\n",
    "from trainer import RMTTrainingArgs\n",
    "\n",
    "args = ExperimentArgs()\n",
    "rmt_train_args = RMTTrainingArgs()\n",
    "\n",
    "model, tokenizer = load_transformer_LM_tokenizer(args.model_name,\n",
    "                                                     tokenizer_name_or_path=args.tokenizer_name)\n",
    "prepare_rmt_model(model, tokenizer, rmt_train_args.memory_length,\n",
    "                    rmt_train_args.memory_position, rmt_train_args.write_memory_position)\n",
    "\n",
    "train_dataset = MscDataset(\n",
    "    tokenizer,\n",
    "    args.train_data_path,\n",
    "    max_length=(model.config.max_position_embeddings - rmt_train_args.memory_length) *\n",
    "    rmt_train_args.num_segments,\n",
    "    memory_length=rmt_train_args.memory_length,\n",
    "    memory_position=rmt_train_args.memory_position,\n",
    "    max_session=args.train_max_session,\n",
    "    mode='train',\n",
    ")"
   ]
  },
  {
   "cell_type": "code",
   "execution_count": 13,
   "metadata": {},
   "outputs": [
    {
     "data": {
      "text/plain": [
       "\"[mem_0] [mem_1] [mem_2] [mem_3] [mem_4] [mem_5] [mem_6] [mem_7] [mem_8] [mem_9] [Speaker 2]: Well I'm delightful today brian! I'm planning a hike [Speaker 1]: Nice. I wish I could hike at hogwarts! How cool would that be?</s>\""
      ]
     },
     "execution_count": 13,
     "metadata": {},
     "output_type": "execute_result"
    }
   ],
   "source": [
    "train_dataset.tokenizer.decode(train_dataset[0]['input_ids'][0])"
   ]
  },
  {
   "cell_type": "code",
   "execution_count": null,
   "metadata": {},
   "outputs": [],
   "source": []
  }
 ],
 "metadata": {
  "kernelspec": {
   "display_name": "py310",
   "language": "python",
   "name": "python3"
  },
  "language_info": {
   "codemirror_mode": {
    "name": "ipython",
    "version": 3
   },
   "file_extension": ".py",
   "mimetype": "text/x-python",
   "name": "python",
   "nbconvert_exporter": "python",
   "pygments_lexer": "ipython3",
   "version": "3.10.9"
  },
  "orig_nbformat": 4
 },
 "nbformat": 4,
 "nbformat_minor": 2
}
